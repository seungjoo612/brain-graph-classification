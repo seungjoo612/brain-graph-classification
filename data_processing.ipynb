{
  "nbformat": 4,
  "nbformat_minor": 0,
  "metadata": {
    "language_info": {
      "codemirror_mode": {
        "name": "ipython",
        "version": 3
      },
      "file_extension": ".py",
      "mimetype": "text/x-python",
      "name": "python",
      "nbconvert_exporter": "python",
      "pygments_lexer": "ipython3",
      "version": "3.8.3"
    },
    "orig_nbformat": 2,
    "kernelspec": {
      "name": "python383jvsc74a57bd0154d020280104659f342f2bec84b53dceee74349d7893467d246c6ba176ebf29",
      "display_name": "Python 3.8.3 64-bit ('base': conda)"
    },
    "colab": {
      "name": "data_processing.ipynb",
      "provenance": [],
      "toc_visible": true,
      "machine_shape": "hm"
    },
    "accelerator": "GPU"
  },
  "cells": [
    {
      "cell_type": "markdown",
      "metadata": {
        "id": "yKwM2jVMZX1L"
      },
      "source": [
        "#POSTECH Research Project: Graph Classification \n",
        "###과제연구 1: Graph Classicafication\n",
        "\n",
        "This notebook contains strenous endeavors of a procrastinator to get her work done before the deadly embarkment of the final proposal due date..\n",
        "1.   Data Analysis\n",
        "- Data will be imported and visualized through some means I hope..\n",
        "2.   Data Preprocessing\n",
        "- Data will be proprocessed to make this whole process actually possible\n",
        "3.   GCN Implementation\n",
        "- existing code with dataset will be tested than applied to own data\n",
        "4. GAT Implementation\n",
        "- existing code with dataset will be tested than applied to own data\n",
        "5. GT Implementation\n",
        "- existing code with dataset will be tested than applied to own data\n",
        "6. Visual Representations\n",
        "- Resulting data will be visually identified.. if possible :(\n",
        "\n"
      ]
    },
    {
      "cell_type": "code",
      "metadata": {
        "colab": {
          "base_uri": "https://localhost:8080/"
        },
        "id": "uqVPrBSMbuul",
        "outputId": "ebd119c8-4596-49cf-cbba-0e23ebab2ea5"
      },
      "source": [
        "from google.colab import drive\n",
        "drive.mount('/content/drive')"
      ],
      "execution_count": 1,
      "outputs": [
        {
          "output_type": "stream",
          "text": [
            "Mounted at /content/drive\n"
          ],
          "name": "stdout"
        }
      ]
    },
    {
      "cell_type": "markdown",
      "metadata": {
        "id": "g_eMVJ-ZmDS7"
      },
      "source": [
        "#Trial 1: Using StellarGraph\n",
        "\n",
        "Firstly, StellarGraph's gcn implementation will be used to achieve graph classification. For now, classification will be done regarding to 2 classes: CN and not CN, which includes AD, ECMI, LCMI, SCM. After checking that this works well, classification regarding more then 2 classes may be attempted, or if the performance is not as high as expected, other models will be utilized.\n",
        "\n",
        "Implementation based on : [StellarGraph: Supervised Graph Classification with GCN](https://stellargraph.readthedocs.io/en/stable/demos/graph-classification/gcn-supervised-graph-classification.html)"
      ]
    },
    {
      "cell_type": "code",
      "metadata": {
        "colab": {
          "base_uri": "https://localhost:8080/"
        },
        "id": "zwKCXxD0Zmlp",
        "outputId": "c5118cbb-d950-4a31-9303-4380646ffbe7"
      },
      "source": [
        "# install StellarGraph if running on Google Colab\n",
        "import sys\n",
        "if 'google.colab' in sys.modules:\n",
        "  %pip install -q stellargraph[demos]\n",
        "  #==1.2.1"
      ],
      "execution_count": 2,
      "outputs": [
        {
          "output_type": "stream",
          "text": [
            "\u001b[K     |████████████████████████████████| 440kB 15.1MB/s \n",
            "\u001b[K     |████████████████████████████████| 235kB 24.9MB/s \n",
            "\u001b[K     |████████████████████████████████| 51kB 6.9MB/s \n",
            "\u001b[?25h  Building wheel for mplleaflet (setup.py) ... \u001b[?25l\u001b[?25hdone\n"
          ],
          "name": "stdout"
        }
      ]
    },
    {
      "cell_type": "code",
      "metadata": {
        "id": "pFDg5hgsZX1N"
      },
      "source": [
        "import os\n",
        "import pandas as pd\n",
        "import numpy as np\n",
        "import stellargraph as sg\n",
        "from stellargraph.mapper import FullBatchNodeGenerator\n",
        "from stellargraph.layer import GCN\n",
        "\n",
        "from tensorflow.keras import layers, optimizers, losses, metrics, Model\n",
        "from sklearn import preprocessing, model_selection\n",
        "from IPython.display import display, HTML\n",
        "import matplotlib.pyplot as plt"
      ],
      "execution_count": 3,
      "outputs": []
    },
    {
      "cell_type": "code",
      "metadata": {
        "id": "kjqaARyiZX1O"
      },
      "source": [
        "import pandas as pd\n",
        "import numpy as np\n",
        "\n",
        "import stellargraph as sg\n",
        "from stellargraph.mapper import PaddedGraphGenerator\n",
        "from stellargraph.layer import GCNSupervisedGraphClassification\n",
        "from stellargraph import StellarGraph\n",
        "\n",
        "from stellargraph import datasets\n",
        "\n",
        "from sklearn import model_selection\n",
        "from IPython.display import display, HTML\n",
        "\n",
        "from tensorflow.keras import Model\n",
        "from tensorflow.keras.optimizers import Adam\n",
        "from tensorflow.keras.layers import Dense\n",
        "from tensorflow.keras.losses import binary_crossentropy\n",
        "from tensorflow.keras.callbacks import EarlyStopping\n",
        "import tensorflow as tf\n",
        "import matplotlib.pyplot as plt"
      ],
      "execution_count": 4,
      "outputs": []
    },
    {
      "cell_type": "code",
      "metadata": {
        "id": "NuJvDytbZX1O"
      },
      "source": [
        "# Don't Need for now!\n",
        "# verify that we're using the correct version of StellarGraph for this notebook\n",
        "import stellargraph as sg\n",
        "\n",
        "try:\n",
        "    sg.utils.validate_notebook_version(\"1.2.1\")\n",
        "except AttributeError:\n",
        "    raise ValueError(\n",
        "        f\"This notebook requires StellarGraph version 1.2.1, but a different version {sg.__version__} is installed.  Please see <https://github.com/stellargraph/stellargraph/issues/1172>.\"\n",
        "    ) from None"
      ],
      "execution_count": 5,
      "outputs": []
    },
    {
      "cell_type": "markdown",
      "metadata": {
        "id": "icVoNbk6m_-7"
      },
      "source": [
        "#1. Load Data\n",
        "Data provided by Prof. Kim Wonhwa is loaded to notebook. \n",
        "To run following code, a list of stellargraph instances and corresponding label list is necessary. The code below uses pd.Dataframes to achieve the conversion from .txt and .xlsx to stellargraph instances."
      ]
    },
    {
      "cell_type": "code",
      "metadata": {
        "id": "NJa6KmeGaWnn"
      },
      "source": [
        "#import data\n",
        "dt_map = pd.read_excel('/content/drive/MyDrive/research_proj_data/DT_File_MAP.xlsx')\n",
        "dTS = pd.read_csv('/content/drive/MyDrive/research_proj_data/[UNC]ADNI-network/DataTS.csv')\n",
        "\n",
        "#node features for each graph\n",
        "dt_map_node_val = dt_map.drop(columns=['PTID', 'VISCODE', 'AGE', 'GENDER', 'EDUCATION', 'LABEL'])\n",
        "nodes = list(dt_map_node_val.columns)[1:]\n",
        "\n",
        "#graph labels\n",
        "label = dt_map[['Subject','LABEL']]"
      ],
      "execution_count": 6,
      "outputs": []
    },
    {
      "cell_type": "code",
      "metadata": {
        "id": "yxCflK-4MVDH"
      },
      "source": [
        "#edge weights for each graph\n",
        "edge_weight = {}\n",
        "for x in os.listdir('/content/drive/MyDrive/research_proj_data/[UNC]ADNI-network/AD-Data'):\n",
        "  f = open('/content/drive/MyDrive/research_proj_data/[UNC]ADNI-network/AD-Data/'+x, 'r')\n",
        "  s = x.replace('_fdt_network_matrix', '')\n",
        "  wdf = pd.DataFrame(np.loadtxt(f, dtype=int), columns=nodes)\n",
        "  wdf.insert(0, 'source', nodes)\n",
        "  edge_weight[s] = pd.melt(frame=wdf,id_vars='source', value_vars=nodes, var_name='target', value_name='weight' )"
      ],
      "execution_count": null,
      "outputs": []
    },
    {
      "cell_type": "code",
      "metadata": {
        "colab": {
          "base_uri": "https://localhost:8080/",
          "height": 419
        },
        "id": "M_NfwsU1cmAU",
        "outputId": "feda5bbc-062e-422a-a7e8-0b4451c77377"
      },
      "source": [
        "#node_features\n",
        "node_features = {}\n",
        "for s in dt_map_node_val['Subject']:\n",
        "  r = dt_map_node_val[dt_map_node_val['Subject']==s]\n",
        "  r_t = r.transpose()\n",
        "  node_features[s] = r_t.drop(index='Subject')\n",
        "  node_features[s].columns = ['values']\n",
        "node_features['S100790']"
      ],
      "execution_count": 8,
      "outputs": [
        {
          "output_type": "execute_result",
          "data": {
            "text/html": [
              "<div>\n",
              "<style scoped>\n",
              "    .dataframe tbody tr th:only-of-type {\n",
              "        vertical-align: middle;\n",
              "    }\n",
              "\n",
              "    .dataframe tbody tr th {\n",
              "        vertical-align: top;\n",
              "    }\n",
              "\n",
              "    .dataframe thead th {\n",
              "        text-align: right;\n",
              "    }\n",
              "</style>\n",
              "<table border=\"1\" class=\"dataframe\">\n",
              "  <thead>\n",
              "    <tr style=\"text-align: right;\">\n",
              "      <th></th>\n",
              "      <th>values</th>\n",
              "    </tr>\n",
              "  </thead>\n",
              "  <tbody>\n",
              "    <tr>\n",
              "      <th>Node 1</th>\n",
              "      <td>1.884</td>\n",
              "    </tr>\n",
              "    <tr>\n",
              "      <th>Node 2</th>\n",
              "      <td>2.547</td>\n",
              "    </tr>\n",
              "    <tr>\n",
              "      <th>Node 3</th>\n",
              "      <td>2.282</td>\n",
              "    </tr>\n",
              "    <tr>\n",
              "      <th>Node 4</th>\n",
              "      <td>2.534</td>\n",
              "    </tr>\n",
              "    <tr>\n",
              "      <th>Node 5</th>\n",
              "      <td>2.385</td>\n",
              "    </tr>\n",
              "    <tr>\n",
              "      <th>...</th>\n",
              "      <td>...</td>\n",
              "    </tr>\n",
              "    <tr>\n",
              "      <th>Node 144</th>\n",
              "      <td>2.196</td>\n",
              "    </tr>\n",
              "    <tr>\n",
              "      <th>Node 145</th>\n",
              "      <td>2.161</td>\n",
              "    </tr>\n",
              "    <tr>\n",
              "      <th>Node 146</th>\n",
              "      <td>2.505</td>\n",
              "    </tr>\n",
              "    <tr>\n",
              "      <th>Node 147</th>\n",
              "      <td>2.347</td>\n",
              "    </tr>\n",
              "    <tr>\n",
              "      <th>Node 148</th>\n",
              "      <td>2.486</td>\n",
              "    </tr>\n",
              "  </tbody>\n",
              "</table>\n",
              "<p>148 rows × 1 columns</p>\n",
              "</div>"
            ],
            "text/plain": [
              "         values\n",
              "Node 1    1.884\n",
              "Node 2    2.547\n",
              "Node 3    2.282\n",
              "Node 4    2.534\n",
              "Node 5    2.385\n",
              "...         ...\n",
              "Node 144  2.196\n",
              "Node 145  2.161\n",
              "Node 146  2.505\n",
              "Node 147  2.347\n",
              "Node 148  2.486\n",
              "\n",
              "[148 rows x 1 columns]"
            ]
          },
          "metadata": {
            "tags": []
          },
          "execution_count": 8
        }
      ]
    },
    {
      "cell_type": "code",
      "metadata": {
        "id": "AgEW90wZcnr5"
      },
      "source": [
        "#graph list\n",
        "graphs = []\n",
        "for s in dt_map_node_val['Subject']:\n",
        "  g = StellarGraph(nodes=node_features[s], edges=edge_weight[s])\n",
        "  graphs.append(g)\n"
      ],
      "execution_count": 9,
      "outputs": []
    },
    {
      "cell_type": "code",
      "metadata": {
        "colab": {
          "base_uri": "https://localhost:8080/",
          "height": 297
        },
        "id": "uCD5J2Taru8W",
        "outputId": "e6760bbb-527a-4a90-b355-167c85dd5406"
      },
      "source": [
        "#Summary Statistics for graphs\n",
        "summary = pd.DataFrame(\n",
        "    [(g.number_of_nodes(), g.number_of_edges()) for g in graphs],\n",
        "    columns=[\"nodes\", \"edges\"],)\n",
        "summary.describe().round(1)"
      ],
      "execution_count": 10,
      "outputs": [
        {
          "output_type": "execute_result",
          "data": {
            "text/html": [
              "<div>\n",
              "<style scoped>\n",
              "    .dataframe tbody tr th:only-of-type {\n",
              "        vertical-align: middle;\n",
              "    }\n",
              "\n",
              "    .dataframe tbody tr th {\n",
              "        vertical-align: top;\n",
              "    }\n",
              "\n",
              "    .dataframe thead th {\n",
              "        text-align: right;\n",
              "    }\n",
              "</style>\n",
              "<table border=\"1\" class=\"dataframe\">\n",
              "  <thead>\n",
              "    <tr style=\"text-align: right;\">\n",
              "      <th></th>\n",
              "      <th>nodes</th>\n",
              "      <th>edges</th>\n",
              "    </tr>\n",
              "  </thead>\n",
              "  <tbody>\n",
              "    <tr>\n",
              "      <th>count</th>\n",
              "      <td>500.0</td>\n",
              "      <td>500.0</td>\n",
              "    </tr>\n",
              "    <tr>\n",
              "      <th>mean</th>\n",
              "      <td>148.0</td>\n",
              "      <td>21904.0</td>\n",
              "    </tr>\n",
              "    <tr>\n",
              "      <th>std</th>\n",
              "      <td>0.0</td>\n",
              "      <td>0.0</td>\n",
              "    </tr>\n",
              "    <tr>\n",
              "      <th>min</th>\n",
              "      <td>148.0</td>\n",
              "      <td>21904.0</td>\n",
              "    </tr>\n",
              "    <tr>\n",
              "      <th>25%</th>\n",
              "      <td>148.0</td>\n",
              "      <td>21904.0</td>\n",
              "    </tr>\n",
              "    <tr>\n",
              "      <th>50%</th>\n",
              "      <td>148.0</td>\n",
              "      <td>21904.0</td>\n",
              "    </tr>\n",
              "    <tr>\n",
              "      <th>75%</th>\n",
              "      <td>148.0</td>\n",
              "      <td>21904.0</td>\n",
              "    </tr>\n",
              "    <tr>\n",
              "      <th>max</th>\n",
              "      <td>148.0</td>\n",
              "      <td>21904.0</td>\n",
              "    </tr>\n",
              "  </tbody>\n",
              "</table>\n",
              "</div>"
            ],
            "text/plain": [
              "       nodes    edges\n",
              "count  500.0    500.0\n",
              "mean   148.0  21904.0\n",
              "std      0.0      0.0\n",
              "min    148.0  21904.0\n",
              "25%    148.0  21904.0\n",
              "50%    148.0  21904.0\n",
              "75%    148.0  21904.0\n",
              "max    148.0  21904.0"
            ]
          },
          "metadata": {
            "tags": []
          },
          "execution_count": 10
        }
      ]
    },
    {
      "cell_type": "code",
      "metadata": {
        "colab": {
          "base_uri": "https://localhost:8080/",
          "height": 419
        },
        "id": "wmFZ8AoIQu4i",
        "outputId": "95848782-c5a0-4cd3-cd77-9cc1f54265cd"
      },
      "source": [
        "#one hot encode graph labels\n",
        "graph_labels = label['LABEL']\n",
        "graph_labels = pd.get_dummies(graph_labels)\n",
        "\n",
        "graph_labels"
      ],
      "execution_count": 11,
      "outputs": [
        {
          "output_type": "execute_result",
          "data": {
            "text/html": [
              "<div>\n",
              "<style scoped>\n",
              "    .dataframe tbody tr th:only-of-type {\n",
              "        vertical-align: middle;\n",
              "    }\n",
              "\n",
              "    .dataframe tbody tr th {\n",
              "        vertical-align: top;\n",
              "    }\n",
              "\n",
              "    .dataframe thead th {\n",
              "        text-align: right;\n",
              "    }\n",
              "</style>\n",
              "<table border=\"1\" class=\"dataframe\">\n",
              "  <thead>\n",
              "    <tr style=\"text-align: right;\">\n",
              "      <th></th>\n",
              "      <th>AD</th>\n",
              "      <th>CN</th>\n",
              "      <th>EMCI</th>\n",
              "      <th>LMCI</th>\n",
              "      <th>SMC</th>\n",
              "    </tr>\n",
              "  </thead>\n",
              "  <tbody>\n",
              "    <tr>\n",
              "      <th>0</th>\n",
              "      <td>1</td>\n",
              "      <td>0</td>\n",
              "      <td>0</td>\n",
              "      <td>0</td>\n",
              "      <td>0</td>\n",
              "    </tr>\n",
              "    <tr>\n",
              "      <th>1</th>\n",
              "      <td>1</td>\n",
              "      <td>0</td>\n",
              "      <td>0</td>\n",
              "      <td>0</td>\n",
              "      <td>0</td>\n",
              "    </tr>\n",
              "    <tr>\n",
              "      <th>2</th>\n",
              "      <td>1</td>\n",
              "      <td>0</td>\n",
              "      <td>0</td>\n",
              "      <td>0</td>\n",
              "      <td>0</td>\n",
              "    </tr>\n",
              "    <tr>\n",
              "      <th>3</th>\n",
              "      <td>1</td>\n",
              "      <td>0</td>\n",
              "      <td>0</td>\n",
              "      <td>0</td>\n",
              "      <td>0</td>\n",
              "    </tr>\n",
              "    <tr>\n",
              "      <th>4</th>\n",
              "      <td>1</td>\n",
              "      <td>0</td>\n",
              "      <td>0</td>\n",
              "      <td>0</td>\n",
              "      <td>0</td>\n",
              "    </tr>\n",
              "    <tr>\n",
              "      <th>...</th>\n",
              "      <td>...</td>\n",
              "      <td>...</td>\n",
              "      <td>...</td>\n",
              "      <td>...</td>\n",
              "      <td>...</td>\n",
              "    </tr>\n",
              "    <tr>\n",
              "      <th>495</th>\n",
              "      <td>0</td>\n",
              "      <td>1</td>\n",
              "      <td>0</td>\n",
              "      <td>0</td>\n",
              "      <td>0</td>\n",
              "    </tr>\n",
              "    <tr>\n",
              "      <th>496</th>\n",
              "      <td>0</td>\n",
              "      <td>1</td>\n",
              "      <td>0</td>\n",
              "      <td>0</td>\n",
              "      <td>0</td>\n",
              "    </tr>\n",
              "    <tr>\n",
              "      <th>497</th>\n",
              "      <td>0</td>\n",
              "      <td>1</td>\n",
              "      <td>0</td>\n",
              "      <td>0</td>\n",
              "      <td>0</td>\n",
              "    </tr>\n",
              "    <tr>\n",
              "      <th>498</th>\n",
              "      <td>0</td>\n",
              "      <td>1</td>\n",
              "      <td>0</td>\n",
              "      <td>0</td>\n",
              "      <td>0</td>\n",
              "    </tr>\n",
              "    <tr>\n",
              "      <th>499</th>\n",
              "      <td>0</td>\n",
              "      <td>1</td>\n",
              "      <td>0</td>\n",
              "      <td>0</td>\n",
              "      <td>0</td>\n",
              "    </tr>\n",
              "  </tbody>\n",
              "</table>\n",
              "<p>500 rows × 5 columns</p>\n",
              "</div>"
            ],
            "text/plain": [
              "     AD  CN  EMCI  LMCI  SMC\n",
              "0     1   0     0     0    0\n",
              "1     1   0     0     0    0\n",
              "2     1   0     0     0    0\n",
              "3     1   0     0     0    0\n",
              "4     1   0     0     0    0\n",
              "..   ..  ..   ...   ...  ...\n",
              "495   0   1     0     0    0\n",
              "496   0   1     0     0    0\n",
              "497   0   1     0     0    0\n",
              "498   0   1     0     0    0\n",
              "499   0   1     0     0    0\n",
              "\n",
              "[500 rows x 5 columns]"
            ]
          },
          "metadata": {
            "tags": []
          },
          "execution_count": 11
        }
      ]
    },
    {
      "cell_type": "code",
      "metadata": {
        "id": "Iu7mI_FVTfZp"
      },
      "source": [
        "#Set labels to {CN, notCN}\n",
        "#graph_labels['not CN'] = graph_labels[['AD', 'EMCI','LMCI','SMC']].sum(axis=1)\n",
        "#graph_labels = graph_labels.drop(['AD', 'EMCI','LMCI','SMC'], axis=1)"
      ],
      "execution_count": 12,
      "outputs": []
    },
    {
      "cell_type": "code",
      "metadata": {
        "colab": {
          "base_uri": "https://localhost:8080/"
        },
        "id": "W7AC79I9jtbT",
        "outputId": "12f5f55f-9a0d-4c49-d8b1-2625dd9d2c29"
      },
      "source": [
        "graph_labels = graph_labels['CN'] #if 0 not CN if 1 CN\n",
        "graph_labels"
      ],
      "execution_count": 13,
      "outputs": [
        {
          "output_type": "execute_result",
          "data": {
            "text/plain": [
              "0      0\n",
              "1      0\n",
              "2      0\n",
              "3      0\n",
              "4      0\n",
              "      ..\n",
              "495    1\n",
              "496    1\n",
              "497    1\n",
              "498    1\n",
              "499    1\n",
              "Name: CN, Length: 500, dtype: uint8"
            ]
          },
          "metadata": {
            "tags": []
          },
          "execution_count": 13
        }
      ]
    },
    {
      "cell_type": "markdown",
      "metadata": {
        "id": "tqUpd8O1S8w4"
      },
      "source": [
        "#Prepare Graph Generator\n",
        "To feed data to the tf.Keras model that we will create later, we need a data generator. For supervised graph classification, we create an instance of StellarGraph’s PaddedGraphGenerator class. Note that graphs is a list of StellarGraph graph objects.\n"
      ]
    },
    {
      "cell_type": "code",
      "metadata": {
        "id": "Yq8CtqdARQtI"
      },
      "source": [
        "generator = PaddedGraphGenerator(graphs=graphs)"
      ],
      "execution_count": 14,
      "outputs": []
    },
    {
      "cell_type": "markdown",
      "metadata": {
        "id": "ElUfut2WnqHZ"
      },
      "source": [
        "#Create the Keras graph classification model\n",
        "We are now ready to create a `tf.Keras` graph classification model using StellarGraph’s `GraphClassification` class together with standard tf.Keras layers, e.g., Dense.\n",
        "\n",
        "The input is the graph represented by its adjacency and node features matrices. The first two layers are Graph Convolutional as in [2] with each layer having 64 units and relu activations. The next layer is a mean pooling layer where the learned node representation are summarized to create a graph representation. The graph representation is input to two fully connected layers with 32 and 16 units respectively and relu activations. The last layer is the output layer with a single unit and sigmoid activation.\n",
        "\n",
        "![image.png](data:image/png;base64,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)\n"
      ]
    },
    {
      "cell_type": "code",
      "metadata": {
        "id": "BkHzXa2nTBF5"
      },
      "source": [
        "def create_graph_classification_model(generator):\n",
        "    gc_model = GCNSupervisedGraphClassification(\n",
        "        layer_sizes=[64, 64],\n",
        "        activations=[\"relu\", \"relu\"],\n",
        "        generator=generator,\n",
        "        dropout=0.5,\n",
        "    )\n",
        "    x_inp, x_out = gc_model.in_out_tensors()\n",
        "    predictions = Dense(units=32, activation=\"relu\")(x_out)\n",
        "    predictions = Dense(units=16, activation=\"relu\")(predictions)\n",
        "    predictions = Dense(units=1, activation=\"sigmoid\")(predictions)\n",
        "\n",
        "    # Let's create the Keras model and prepare it for training\n",
        "    model = Model(inputs=x_inp, outputs=predictions)\n",
        "    model.compile(optimizer=Adam(0.005), loss=binary_crossentropy, metrics=[\"acc\"])\n",
        "\n",
        "    return model"
      ],
      "execution_count": 15,
      "outputs": []
    },
    {
      "cell_type": "markdown",
      "metadata": {
        "id": "IcBQrdBdoGI7"
      },
      "source": [
        "#Train the Model using `fit`"
      ]
    },
    {
      "cell_type": "code",
      "metadata": {
        "id": "5HzPffIATF0s"
      },
      "source": [
        "#parameters\n",
        "\n",
        "epochs = 200  # maximum number of training epochs\n",
        "folds = 10  # the number of folds for k-fold cross validation\n",
        "n_repeats = 5  # the number of repeats for repeated k-fold cross validation\n",
        "\n",
        "es = EarlyStopping(\n",
        "    monitor=\"val_loss\", min_delta=0, patience=25, restore_best_weights=True\n",
        ")"
      ],
      "execution_count": 16,
      "outputs": []
    },
    {
      "cell_type": "code",
      "metadata": {
        "id": "mOCR6eddTMnH"
      },
      "source": [
        "def train_fold(model, train_gen, test_gen, es, epochs):\n",
        "    history = model.fit(\n",
        "        train_gen, epochs=epochs, validation_data=test_gen, verbose=0, callbacks=[es],\n",
        "    )\n",
        "    # calculate performance on the test data and return along with history\n",
        "    test_metrics = model.evaluate(test_gen, verbose=0)\n",
        "    test_acc = test_metrics[model.metrics_names.index(\"acc\")]\n",
        "\n",
        "    return history, test_acc"
      ],
      "execution_count": 17,
      "outputs": []
    },
    {
      "cell_type": "code",
      "metadata": {
        "id": "EvpQjuSDTOYH"
      },
      "source": [
        "def get_generators(train_index, test_index, graph_labels, batch_size):\n",
        "    train_gen = generator.flow(\n",
        "        train_index, targets=graph_labels.iloc[train_index].values, batch_size=batch_size\n",
        "    )\n",
        "    test_gen = generator.flow(\n",
        "        test_index, targets=graph_labels.iloc[test_index].values, batch_size=batch_size\n",
        "    )\n",
        "\n",
        "    return train_gen, test_gen"
      ],
      "execution_count": 18,
      "outputs": []
    },
    {
      "cell_type": "markdown",
      "metadata": {
        "id": "fjGwIrRSoPlH"
      },
      "source": [
        "The code below puts all the above functionality together in a training loop for repeated k-fold cross-validation where the number of folds is 10, folds=10; that is we do 10-fold cross validation n_repeats times where n_repeats=5.\n",
        "\n",
        "Note: The below code may take a long time to run depending on the value set for n_repeats. The larger the latter, the longer it takes since for each repeat we train and evaluate 10 graph classification models, one for each fold of the data. For progress updates, we recommend that you set verbose=2 in the call to the fit method is cell 10, line 3."
      ]
    },
    {
      "cell_type": "code",
      "metadata": {
        "colab": {
          "base_uri": "https://localhost:8080/"
        },
        "id": "SKdjkYcrTQA4",
        "outputId": "b2bff335-54f8-4791-e967-52a93e13a7fe"
      },
      "source": [
        "test_accs = []\n",
        "\n",
        "stratified_folds = model_selection.RepeatedStratifiedKFold(\n",
        "    n_splits=folds, n_repeats=n_repeats\n",
        ").split(graph_labels, graph_labels)\n",
        "\n",
        "for i, (train_index, test_index) in enumerate(stratified_folds):\n",
        "    print(f\"Training and evaluating on fold {i+1} out of {folds * n_repeats}...\")\n",
        "    train_gen, test_gen = get_generators(\n",
        "        train_index, test_index, graph_labels, batch_size=30\n",
        "    )\n",
        "\n",
        "    model = create_graph_classification_model(generator)\n",
        "\n",
        "    history, acc = train_fold(model, train_gen, test_gen, es, epochs)\n",
        "\n",
        "    test_accs.append(acc)"
      ],
      "execution_count": 19,
      "outputs": [
        {
          "output_type": "stream",
          "text": [
            "Training and evaluating on fold 1 out of 50...\n",
            "Training and evaluating on fold 2 out of 50...\n",
            "Training and evaluating on fold 3 out of 50...\n",
            "Training and evaluating on fold 4 out of 50...\n",
            "Training and evaluating on fold 5 out of 50...\n",
            "Training and evaluating on fold 6 out of 50...\n",
            "Training and evaluating on fold 7 out of 50...\n",
            "Training and evaluating on fold 8 out of 50...\n",
            "Training and evaluating on fold 9 out of 50...\n",
            "Training and evaluating on fold 10 out of 50...\n",
            "Training and evaluating on fold 11 out of 50...\n",
            "Training and evaluating on fold 12 out of 50...\n",
            "Training and evaluating on fold 13 out of 50...\n",
            "Training and evaluating on fold 14 out of 50...\n",
            "Training and evaluating on fold 15 out of 50...\n",
            "Training and evaluating on fold 16 out of 50...\n",
            "Training and evaluating on fold 17 out of 50...\n",
            "Training and evaluating on fold 18 out of 50...\n",
            "Training and evaluating on fold 19 out of 50...\n",
            "Training and evaluating on fold 20 out of 50...\n",
            "Training and evaluating on fold 21 out of 50...\n",
            "Training and evaluating on fold 22 out of 50...\n",
            "Training and evaluating on fold 23 out of 50...\n",
            "Training and evaluating on fold 24 out of 50...\n",
            "Training and evaluating on fold 25 out of 50...\n",
            "Training and evaluating on fold 26 out of 50...\n",
            "Training and evaluating on fold 27 out of 50...\n",
            "Training and evaluating on fold 28 out of 50...\n",
            "Training and evaluating on fold 29 out of 50...\n",
            "Training and evaluating on fold 30 out of 50...\n",
            "Training and evaluating on fold 31 out of 50...\n",
            "Training and evaluating on fold 32 out of 50...\n",
            "Training and evaluating on fold 33 out of 50...\n",
            "Training and evaluating on fold 34 out of 50...\n",
            "Training and evaluating on fold 35 out of 50...\n",
            "Training and evaluating on fold 36 out of 50...\n",
            "Training and evaluating on fold 37 out of 50...\n",
            "Training and evaluating on fold 38 out of 50...\n",
            "Training and evaluating on fold 39 out of 50...\n",
            "Training and evaluating on fold 40 out of 50...\n",
            "Training and evaluating on fold 41 out of 50...\n",
            "Training and evaluating on fold 42 out of 50...\n",
            "Training and evaluating on fold 43 out of 50...\n",
            "Training and evaluating on fold 44 out of 50...\n",
            "Training and evaluating on fold 45 out of 50...\n",
            "Training and evaluating on fold 46 out of 50...\n",
            "Training and evaluating on fold 47 out of 50...\n",
            "Training and evaluating on fold 48 out of 50...\n",
            "Training and evaluating on fold 49 out of 50...\n",
            "Training and evaluating on fold 50 out of 50...\n"
          ],
          "name": "stdout"
        }
      ]
    },
    {
      "cell_type": "code",
      "metadata": {
        "colab": {
          "base_uri": "https://localhost:8080/"
        },
        "id": "Fm8teiyDTSbj",
        "outputId": "cd0c0ba1-4f09-43d1-fa6f-c8c4a93f79e2"
      },
      "source": [
        "print(\n",
        "    f\"Accuracy over all folds mean: {np.mean(test_accs)*100:.3}% and std: {np.std(test_accs)*100:.2}%\"\n",
        ")"
      ],
      "execution_count": 20,
      "outputs": [
        {
          "output_type": "stream",
          "text": [
            "Accuracy over all folds mean: 78.2% and std: 0.6%\n"
          ],
          "name": "stdout"
        }
      ]
    },
    {
      "cell_type": "markdown",
      "metadata": {
        "id": "5Ypx4lt-E0Bs"
      },
      "source": [
        "#Visualization of Results"
      ]
    },
    {
      "cell_type": "code",
      "metadata": {
        "colab": {
          "base_uri": "https://localhost:8080/",
          "height": 405
        },
        "id": "1trac-xoyf0Q",
        "outputId": "a4ce5861-f1ac-4e8e-c5d6-c024d027a81d"
      },
      "source": [
        "plt.figure(figsize=(8, 6))\n",
        "plt.hist(test_accs)\n",
        "plt.xlabel(\"Accuracy\")\n",
        "plt.ylabel(\"Count\")"
      ],
      "execution_count": 21,
      "outputs": [
        {
          "output_type": "execute_result",
          "data": {
            "text/plain": [
              "Text(0, 0.5, 'Count')"
            ]
          },
          "metadata": {
            "tags": []
          },
          "execution_count": 21
        },
        {
          "output_type": "display_data",
          "data": {
            "image/png": "[encoded data removed]",
            "text/plain": [
              "<Figure size 576x432 with 1 Axes>"
            ]
          },
          "metadata": {
            "tags": [],
            "needs_background": "light"
          }
        }
      ]
    },
    {
      "cell_type": "code",
      "metadata": {
        "id": "q45IRvJPE24V"
      },
      "source": [
        ""
      ],
      "execution_count": null,
      "outputs": []
    }
  ]
}